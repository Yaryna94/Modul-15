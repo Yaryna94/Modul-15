{
 "cells": [
  {
   "cell_type": "code",
   "execution_count": 1,
   "id": "93b38fe6-e51f-4a2e-aa58-0685f0453eb7",
   "metadata": {
    "tags": []
   },
   "outputs": [],
   "source": [
    "import plotly.graph_objects as go\n",
    "import matplotlib.pyplot as plt\n",
    "import pandas as pd"
   ]
  },
  {
   "cell_type": "code",
   "execution_count": 2,
   "id": "9bdfb078-2027-468d-873c-13168c020718",
   "metadata": {
    "tags": []
   },
   "outputs": [],
   "source": [
    "prices = [\n",
    "(1, 2.12),\n",
    "(2, 2.56),\n",
    "(3, 3.10),\n",
    "(4, 3.16),\n",
    "(5, 3.58),\n",
    "(6, 5.12),\n",
    "(7, 5.16),\n",
    "(8, 5.20),\n",
    "(9, 4.12),\n",
    "(10, 4.10),\n",
    "(11, 3.65),\n",
    "(12, 4.25),\n",
    "\n",
    "]"
   ]
  },
  {
   "cell_type": "code",
   "execution_count": 5,
   "id": "1fd8cdf1-e3c7-4ca4-9183-fbacf7650092",
   "metadata": {
    "tags": []
   },
   "outputs": [
    {
     "data": {
      "text/html": [
       "<div>\n",
       "<style scoped>\n",
       "    .dataframe tbody tr th:only-of-type {\n",
       "        vertical-align: middle;\n",
       "    }\n",
       "\n",
       "    .dataframe tbody tr th {\n",
       "        vertical-align: top;\n",
       "    }\n",
       "\n",
       "    .dataframe thead th {\n",
       "        text-align: right;\n",
       "    }\n",
       "</style>\n",
       "<table border=\"1\" class=\"dataframe\">\n",
       "  <thead>\n",
       "    <tr style=\"text-align: right;\">\n",
       "      <th></th>\n",
       "      <th>pricePLN</th>\n",
       "      <th>priceUSD</th>\n",
       "    </tr>\n",
       "    <tr>\n",
       "      <th>month</th>\n",
       "      <th></th>\n",
       "      <th></th>\n",
       "    </tr>\n",
       "  </thead>\n",
       "  <tbody>\n",
       "    <tr>\n",
       "      <th>1</th>\n",
       "      <td>2.12</td>\n",
       "      <td>0.5300</td>\n",
       "    </tr>\n",
       "    <tr>\n",
       "      <th>2</th>\n",
       "      <td>2.56</td>\n",
       "      <td>0.6400</td>\n",
       "    </tr>\n",
       "    <tr>\n",
       "      <th>3</th>\n",
       "      <td>3.10</td>\n",
       "      <td>0.7750</td>\n",
       "    </tr>\n",
       "    <tr>\n",
       "      <th>4</th>\n",
       "      <td>3.16</td>\n",
       "      <td>0.7900</td>\n",
       "    </tr>\n",
       "    <tr>\n",
       "      <th>5</th>\n",
       "      <td>3.58</td>\n",
       "      <td>0.8950</td>\n",
       "    </tr>\n",
       "    <tr>\n",
       "      <th>6</th>\n",
       "      <td>5.12</td>\n",
       "      <td>1.2800</td>\n",
       "    </tr>\n",
       "    <tr>\n",
       "      <th>7</th>\n",
       "      <td>5.16</td>\n",
       "      <td>1.2900</td>\n",
       "    </tr>\n",
       "    <tr>\n",
       "      <th>8</th>\n",
       "      <td>5.20</td>\n",
       "      <td>1.3000</td>\n",
       "    </tr>\n",
       "    <tr>\n",
       "      <th>9</th>\n",
       "      <td>4.12</td>\n",
       "      <td>1.0300</td>\n",
       "    </tr>\n",
       "    <tr>\n",
       "      <th>10</th>\n",
       "      <td>4.10</td>\n",
       "      <td>1.0250</td>\n",
       "    </tr>\n",
       "    <tr>\n",
       "      <th>11</th>\n",
       "      <td>3.65</td>\n",
       "      <td>0.9125</td>\n",
       "    </tr>\n",
       "    <tr>\n",
       "      <th>12</th>\n",
       "      <td>4.25</td>\n",
       "      <td>1.0625</td>\n",
       "    </tr>\n",
       "  </tbody>\n",
       "</table>\n",
       "</div>"
      ],
      "text/plain": [
       "       pricePLN  priceUSD\n",
       "month                    \n",
       "1          2.12    0.5300\n",
       "2          2.56    0.6400\n",
       "3          3.10    0.7750\n",
       "4          3.16    0.7900\n",
       "5          3.58    0.8950\n",
       "6          5.12    1.2800\n",
       "7          5.16    1.2900\n",
       "8          5.20    1.3000\n",
       "9          4.12    1.0300\n",
       "10         4.10    1.0250\n",
       "11         3.65    0.9125\n",
       "12         4.25    1.0625"
      ]
     },
     "execution_count": 5,
     "metadata": {},
     "output_type": "execute_result"
    }
   ],
   "source": [
    "df = pd.DataFrame(prices, columns=[\"month\", \"pricePLN\"])\n",
    "df = df.set_index(\"month\")\n",
    "usd=[]\n",
    "for i in prices:\n",
    "    exchange = i[1]/4\n",
    "    usd.append(exchange)\n",
    "df[\"priceUSD\"] = usd\n",
    "df"
   ]
  },
  {
   "cell_type": "code",
   "execution_count": 6,
   "id": "c29a480e-8a62-4b07-bca5-618b406bd3be",
   "metadata": {
    "tags": []
   },
   "outputs": [
    {
     "data": {
      "text/plain": [
       "[<matplotlib.lines.Line2D at 0x2087ea4ce10>]"
      ]
     },
     "execution_count": 6,
     "metadata": {},
     "output_type": "execute_result"
    },
    {
     "data": {
      "image/png": "[encoded data removed]",
      "text/plain": [
       "<Figure size 640x480 with 1 Axes>"
      ]
     },
     "metadata": {},
     "output_type": "display_data"
    }
   ],
   "source": [
    "plt.title(\"Price of goods (USD)\")\n",
    "plt.xlabel(\"Month\")\n",
    "plt.ylabel(\"$\")\n",
    "plt.grid()\n",
    "plt.plot(df.index, df[\"priceUSD\"], linestyle='dashed', color=\"r\")"
   ]
  },
  {
   "cell_type": "code",
   "execution_count": null,
   "id": "58f8dc42-5195-414e-af2b-1f7b3960265a",
   "metadata": {},
   "outputs": [],
   "source": []
  }
 ],
 "metadata": {
  "kernelspec": {
   "display_name": "Python 3 (ipykernel)",
   "language": "python",
   "name": "python3"
  },
  "language_info": {
   "codemirror_mode": {
    "name": "ipython",
    "version": 3
   },
   "file_extension": ".py",
   "mimetype": "text/x-python",
   "name": "python",
   "nbconvert_exporter": "python",
   "pygments_lexer": "ipython3",
   "version": "3.11.1"
  }
 },
 "nbformat": 4,
 "nbformat_minor": 5
}
